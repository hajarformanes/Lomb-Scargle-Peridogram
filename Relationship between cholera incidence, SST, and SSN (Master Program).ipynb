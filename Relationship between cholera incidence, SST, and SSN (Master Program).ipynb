{
 "cells": [
  {
   "cell_type": "code",
   "execution_count": null,
   "metadata": {},
   "outputs": [],
   "source": [
    "# Methodolgy: Use correlation to see similarity between two data sets. Use periodogram (Lomb-Scargle) to see the periodicity of \n",
    "            # a data set. So if we use periodogram and find 11-year periodicity in our data set (for SSN and cholera incidence) \n",
    "            # then we can say that such data set is correlated with the 11-year sunspot cycle. Furthermore, if we find \n",
    "            # periodicity in our data set (for SST and cholera incidence) then we can say that such data set are correlated with\n",
    "            # each other. Moreover, to validate that we have to correlate them."
   ]
  },
  {
   "cell_type": "code",
   "execution_count": 1,
   "metadata": {},
   "outputs": [],
   "source": [
    "# Import the basic modules that you need to access the data and do some visualization\n",
    "\n",
    "import numpy as np\n",
    "import matplotlib.pyplot as plt\n",
    "import pandas as pd"
   ]
  },
  {
   "cell_type": "code",
   "execution_count": 2,
   "metadata": {},
   "outputs": [
    {
     "data": {
      "text/html": [
       "<div>\n",
       "<style scoped>\n",
       "    .dataframe tbody tr th:only-of-type {\n",
       "        vertical-align: middle;\n",
       "    }\n",
       "\n",
       "    .dataframe tbody tr th {\n",
       "        vertical-align: top;\n",
       "    }\n",
       "\n",
       "    .dataframe thead th {\n",
       "        text-align: right;\n",
       "    }\n",
       "</style>\n",
       "<table border=\"1\" class=\"dataframe\">\n",
       "  <thead>\n",
       "    <tr style=\"text-align: right;\">\n",
       "      <th></th>\n",
       "      <th>Year</th>\n",
       "      <th>Cases</th>\n",
       "      <th>SSN</th>\n",
       "      <th>SST 1</th>\n",
       "      <th>SST 2</th>\n",
       "    </tr>\n",
       "  </thead>\n",
       "  <tbody>\n",
       "    <tr>\n",
       "      <th>0</th>\n",
       "      <td>1950</td>\n",
       "      <td>29809.0</td>\n",
       "      <td>118.9</td>\n",
       "      <td>27.511667</td>\n",
       "      <td>25.730000</td>\n",
       "    </tr>\n",
       "    <tr>\n",
       "      <th>1</th>\n",
       "      <td>1951</td>\n",
       "      <td>20894.0</td>\n",
       "      <td>98.3</td>\n",
       "      <td>27.479167</td>\n",
       "      <td>27.024167</td>\n",
       "    </tr>\n",
       "    <tr>\n",
       "      <th>2</th>\n",
       "      <td>1952</td>\n",
       "      <td>21154.0</td>\n",
       "      <td>45.0</td>\n",
       "      <td>27.452500</td>\n",
       "      <td>26.744167</td>\n",
       "    </tr>\n",
       "    <tr>\n",
       "      <th>3</th>\n",
       "      <td>1953</td>\n",
       "      <td>27631.0</td>\n",
       "      <td>20.1</td>\n",
       "      <td>27.430833</td>\n",
       "      <td>27.323333</td>\n",
       "    </tr>\n",
       "    <tr>\n",
       "      <th>4</th>\n",
       "      <td>1954</td>\n",
       "      <td>15617.0</td>\n",
       "      <td>6.6</td>\n",
       "      <td>27.420000</td>\n",
       "      <td>26.182500</td>\n",
       "    </tr>\n",
       "  </tbody>\n",
       "</table>\n",
       "</div>"
      ],
      "text/plain": [
       "   Year    Cases    SSN      SST 1      SST 2\n",
       "0  1950  29809.0  118.9  27.511667  25.730000\n",
       "1  1951  20894.0   98.3  27.479167  27.024167\n",
       "2  1952  21154.0   45.0  27.452500  26.744167\n",
       "3  1953  27631.0   20.1  27.430833  27.323333\n",
       "4  1954  15617.0    6.6  27.420000  26.182500"
      ]
     },
     "execution_count": 2,
     "metadata": {},
     "output_type": "execute_result"
    }
   ],
   "source": [
    "# Load the data\n",
    "\n",
    "df = pd.read_excel(r'C:\\Users\\Dell\\Documents\\data\\bangladesh_cholera_cases_SST_and_SSN.xlsx', sheet_name=\"Sheet1\")\n",
    "df.head()\n",
    "\n",
    "# Note:\n",
    "\n",
    "# SST 1 = IOBW\n",
    "# SST 2 = Niño 3.4"
   ]
  },
  {
   "cell_type": "code",
   "execution_count": 3,
   "metadata": {},
   "outputs": [
    {
     "name": "stdout",
     "output_type": "stream",
     "text": [
      "<class 'pandas.core.frame.DataFrame'>\n",
      "RangeIndex: 51 entries, 0 to 50\n",
      "Data columns (total 5 columns):\n",
      "Year     51 non-null int64\n",
      "Cases    44 non-null float64\n",
      "SSN      51 non-null float64\n",
      "SST 1    51 non-null float64\n",
      "SST 2    51 non-null float64\n",
      "dtypes: float64(4), int64(1)\n",
      "memory usage: 2.0 KB\n"
     ]
    }
   ],
   "source": [
    "# First let's check your dataframe's information\n",
    "\n",
    "df.info()"
   ]
  },
  {
   "cell_type": "code",
   "execution_count": 25,
   "metadata": {
    "scrolled": false
   },
   "outputs": [
    {
     "data": {
      "text/html": [
       "<div>\n",
       "<style scoped>\n",
       "    .dataframe tbody tr th:only-of-type {\n",
       "        vertical-align: middle;\n",
       "    }\n",
       "\n",
       "    .dataframe tbody tr th {\n",
       "        vertical-align: top;\n",
       "    }\n",
       "\n",
       "    .dataframe thead th {\n",
       "        text-align: right;\n",
       "    }\n",
       "</style>\n",
       "<table border=\"1\" class=\"dataframe\">\n",
       "  <thead>\n",
       "    <tr style=\"text-align: right;\">\n",
       "      <th></th>\n",
       "      <th>Year</th>\n",
       "      <th>Cases</th>\n",
       "      <th>SSN</th>\n",
       "      <th>SST 1</th>\n",
       "      <th>SST 2</th>\n",
       "    </tr>\n",
       "  </thead>\n",
       "  <tbody>\n",
       "    <tr>\n",
       "      <th>0</th>\n",
       "      <td>1950</td>\n",
       "      <td>29809.0</td>\n",
       "      <td>118.9</td>\n",
       "      <td>27.511667</td>\n",
       "      <td>25.730000</td>\n",
       "    </tr>\n",
       "    <tr>\n",
       "      <th>1</th>\n",
       "      <td>1951</td>\n",
       "      <td>20894.0</td>\n",
       "      <td>98.3</td>\n",
       "      <td>27.479167</td>\n",
       "      <td>27.024167</td>\n",
       "    </tr>\n",
       "    <tr>\n",
       "      <th>2</th>\n",
       "      <td>1952</td>\n",
       "      <td>21154.0</td>\n",
       "      <td>45.0</td>\n",
       "      <td>27.452500</td>\n",
       "      <td>26.744167</td>\n",
       "    </tr>\n",
       "    <tr>\n",
       "      <th>3</th>\n",
       "      <td>1953</td>\n",
       "      <td>27631.0</td>\n",
       "      <td>20.1</td>\n",
       "      <td>27.430833</td>\n",
       "      <td>27.323333</td>\n",
       "    </tr>\n",
       "    <tr>\n",
       "      <th>4</th>\n",
       "      <td>1954</td>\n",
       "      <td>15617.0</td>\n",
       "      <td>6.6</td>\n",
       "      <td>27.420000</td>\n",
       "      <td>26.182500</td>\n",
       "    </tr>\n",
       "    <tr>\n",
       "      <th>5</th>\n",
       "      <td>1955</td>\n",
       "      <td>16642.0</td>\n",
       "      <td>54.2</td>\n",
       "      <td>27.392500</td>\n",
       "      <td>25.635000</td>\n",
       "    </tr>\n",
       "    <tr>\n",
       "      <th>6</th>\n",
       "      <td>1956</td>\n",
       "      <td>23699.0</td>\n",
       "      <td>200.7</td>\n",
       "      <td>27.351667</td>\n",
       "      <td>26.084167</td>\n",
       "    </tr>\n",
       "    <tr>\n",
       "      <th>7</th>\n",
       "      <td>1957</td>\n",
       "      <td>8054.0</td>\n",
       "      <td>269.3</td>\n",
       "      <td>27.322500</td>\n",
       "      <td>27.618333</td>\n",
       "    </tr>\n",
       "    <tr>\n",
       "      <th>8</th>\n",
       "      <td>1958</td>\n",
       "      <td>15631.0</td>\n",
       "      <td>261.7</td>\n",
       "      <td>27.329167</td>\n",
       "      <td>27.483333</td>\n",
       "    </tr>\n",
       "    <tr>\n",
       "      <th>9</th>\n",
       "      <td>1959</td>\n",
       "      <td>16915.0</td>\n",
       "      <td>225.1</td>\n",
       "      <td>27.360833</td>\n",
       "      <td>26.798333</td>\n",
       "    </tr>\n",
       "    <tr>\n",
       "      <th>10</th>\n",
       "      <td>1960</td>\n",
       "      <td>15618.0</td>\n",
       "      <td>159.0</td>\n",
       "      <td>27.380000</td>\n",
       "      <td>26.722500</td>\n",
       "    </tr>\n",
       "    <tr>\n",
       "      <th>11</th>\n",
       "      <td>1961</td>\n",
       "      <td>2663.0</td>\n",
       "      <td>76.4</td>\n",
       "      <td>27.375000</td>\n",
       "      <td>26.593333</td>\n",
       "    </tr>\n",
       "    <tr>\n",
       "      <th>12</th>\n",
       "      <td>1962</td>\n",
       "      <td>2524.0</td>\n",
       "      <td>53.4</td>\n",
       "      <td>27.415833</td>\n",
       "      <td>26.385833</td>\n",
       "    </tr>\n",
       "    <tr>\n",
       "      <th>13</th>\n",
       "      <td>1963</td>\n",
       "      <td>3975.0</td>\n",
       "      <td>39.9</td>\n",
       "      <td>27.458333</td>\n",
       "      <td>27.275833</td>\n",
       "    </tr>\n",
       "    <tr>\n",
       "      <th>14</th>\n",
       "      <td>1964</td>\n",
       "      <td>3333.0</td>\n",
       "      <td>15.0</td>\n",
       "      <td>27.482500</td>\n",
       "      <td>26.246667</td>\n",
       "    </tr>\n",
       "    <tr>\n",
       "      <th>15</th>\n",
       "      <td>1965</td>\n",
       "      <td>1123.0</td>\n",
       "      <td>22.0</td>\n",
       "      <td>27.477500</td>\n",
       "      <td>27.531667</td>\n",
       "    </tr>\n",
       "    <tr>\n",
       "      <th>16</th>\n",
       "      <td>1966</td>\n",
       "      <td>3154.0</td>\n",
       "      <td>66.8</td>\n",
       "      <td>27.464167</td>\n",
       "      <td>27.111667</td>\n",
       "    </tr>\n",
       "    <tr>\n",
       "      <th>17</th>\n",
       "      <td>1967</td>\n",
       "      <td>664.0</td>\n",
       "      <td>132.9</td>\n",
       "      <td>27.483333</td>\n",
       "      <td>26.443333</td>\n",
       "    </tr>\n",
       "    <tr>\n",
       "      <th>18</th>\n",
       "      <td>1968</td>\n",
       "      <td>3156.0</td>\n",
       "      <td>150.0</td>\n",
       "      <td>27.499167</td>\n",
       "      <td>26.866667</td>\n",
       "    </tr>\n",
       "    <tr>\n",
       "      <th>19</th>\n",
       "      <td>1969</td>\n",
       "      <td>7411.0</td>\n",
       "      <td>149.4</td>\n",
       "      <td>27.483333</td>\n",
       "      <td>27.496667</td>\n",
       "    </tr>\n",
       "    <tr>\n",
       "      <th>20</th>\n",
       "      <td>1970</td>\n",
       "      <td>7419.0</td>\n",
       "      <td>148.0</td>\n",
       "      <td>27.514167</td>\n",
       "      <td>26.435833</td>\n",
       "    </tr>\n",
       "    <tr>\n",
       "      <th>21</th>\n",
       "      <td>1971</td>\n",
       "      <td>2342.0</td>\n",
       "      <td>94.4</td>\n",
       "      <td>27.567500</td>\n",
       "      <td>25.840833</td>\n",
       "    </tr>\n",
       "    <tr>\n",
       "      <th>22</th>\n",
       "      <td>1972</td>\n",
       "      <td>1059.0</td>\n",
       "      <td>97.6</td>\n",
       "      <td>27.590000</td>\n",
       "      <td>27.750000</td>\n",
       "    </tr>\n",
       "    <tr>\n",
       "      <th>23</th>\n",
       "      <td>1973</td>\n",
       "      <td>1969.0</td>\n",
       "      <td>54.1</td>\n",
       "      <td>27.654167</td>\n",
       "      <td>26.168333</td>\n",
       "    </tr>\n",
       "    <tr>\n",
       "      <th>24</th>\n",
       "      <td>1974</td>\n",
       "      <td>5614.0</td>\n",
       "      <td>49.2</td>\n",
       "      <td>27.690000</td>\n",
       "      <td>25.904167</td>\n",
       "    </tr>\n",
       "    <tr>\n",
       "      <th>25</th>\n",
       "      <td>1975</td>\n",
       "      <td>4888.0</td>\n",
       "      <td>22.5</td>\n",
       "      <td>27.680000</td>\n",
       "      <td>25.760833</td>\n",
       "    </tr>\n",
       "    <tr>\n",
       "      <th>26</th>\n",
       "      <td>1976</td>\n",
       "      <td>957.0</td>\n",
       "      <td>18.4</td>\n",
       "      <td>27.674167</td>\n",
       "      <td>26.750833</td>\n",
       "    </tr>\n",
       "    <tr>\n",
       "      <th>27</th>\n",
       "      <td>1977</td>\n",
       "      <td>10403.0</td>\n",
       "      <td>39.3</td>\n",
       "      <td>27.676667</td>\n",
       "      <td>27.333333</td>\n",
       "    </tr>\n",
       "    <tr>\n",
       "      <th>28</th>\n",
       "      <td>1978</td>\n",
       "      <td>5576.0</td>\n",
       "      <td>131.0</td>\n",
       "      <td>27.705000</td>\n",
       "      <td>26.711667</td>\n",
       "    </tr>\n",
       "    <tr>\n",
       "      <th>29</th>\n",
       "      <td>1979</td>\n",
       "      <td>2154.0</td>\n",
       "      <td>220.1</td>\n",
       "      <td>27.705000</td>\n",
       "      <td>27.054167</td>\n",
       "    </tr>\n",
       "    <tr>\n",
       "      <th>30</th>\n",
       "      <td>1980</td>\n",
       "      <td>0.0</td>\n",
       "      <td>218.9</td>\n",
       "      <td>27.730833</td>\n",
       "      <td>27.076667</td>\n",
       "    </tr>\n",
       "    <tr>\n",
       "      <th>31</th>\n",
       "      <td>1981</td>\n",
       "      <td>0.0</td>\n",
       "      <td>198.9</td>\n",
       "      <td>27.745833</td>\n",
       "      <td>26.622500</td>\n",
       "    </tr>\n",
       "    <tr>\n",
       "      <th>32</th>\n",
       "      <td>1982</td>\n",
       "      <td>0.0</td>\n",
       "      <td>162.4</td>\n",
       "      <td>27.752500</td>\n",
       "      <td>27.910833</td>\n",
       "    </tr>\n",
       "    <tr>\n",
       "      <th>33</th>\n",
       "      <td>1983</td>\n",
       "      <td>0.0</td>\n",
       "      <td>91.0</td>\n",
       "      <td>27.777500</td>\n",
       "      <td>27.385833</td>\n",
       "    </tr>\n",
       "    <tr>\n",
       "      <th>34</th>\n",
       "      <td>1984</td>\n",
       "      <td>0.0</td>\n",
       "      <td>60.5</td>\n",
       "      <td>27.825000</td>\n",
       "      <td>26.414167</td>\n",
       "    </tr>\n",
       "    <tr>\n",
       "      <th>35</th>\n",
       "      <td>1985</td>\n",
       "      <td>0.0</td>\n",
       "      <td>20.6</td>\n",
       "      <td>27.790833</td>\n",
       "      <td>26.324167</td>\n",
       "    </tr>\n",
       "    <tr>\n",
       "      <th>36</th>\n",
       "      <td>1986</td>\n",
       "      <td>0.0</td>\n",
       "      <td>14.8</td>\n",
       "      <td>27.758333</td>\n",
       "      <td>27.139167</td>\n",
       "    </tr>\n",
       "    <tr>\n",
       "      <th>37</th>\n",
       "      <td>1987</td>\n",
       "      <td>523.0</td>\n",
       "      <td>33.9</td>\n",
       "      <td>27.722500</td>\n",
       "      <td>28.172500</td>\n",
       "    </tr>\n",
       "    <tr>\n",
       "      <th>38</th>\n",
       "      <td>1988</td>\n",
       "      <td>571.0</td>\n",
       "      <td>123.0</td>\n",
       "      <td>27.774167</td>\n",
       "      <td>26.079167</td>\n",
       "    </tr>\n",
       "    <tr>\n",
       "      <th>39</th>\n",
       "      <td>1989</td>\n",
       "      <td>94.0</td>\n",
       "      <td>211.1</td>\n",
       "      <td>27.829167</td>\n",
       "      <td>26.281667</td>\n",
       "    </tr>\n",
       "    <tr>\n",
       "      <th>40</th>\n",
       "      <td>1990</td>\n",
       "      <td>82.0</td>\n",
       "      <td>191.8</td>\n",
       "      <td>27.819167</td>\n",
       "      <td>27.207500</td>\n",
       "    </tr>\n",
       "    <tr>\n",
       "      <th>41</th>\n",
       "      <td>1991</td>\n",
       "      <td>8.0</td>\n",
       "      <td>203.3</td>\n",
       "      <td>27.824167</td>\n",
       "      <td>27.697500</td>\n",
       "    </tr>\n",
       "    <tr>\n",
       "      <th>42</th>\n",
       "      <td>1992</td>\n",
       "      <td>479.0</td>\n",
       "      <td>133.0</td>\n",
       "      <td>27.858333</td>\n",
       "      <td>27.685000</td>\n",
       "    </tr>\n",
       "    <tr>\n",
       "      <th>43</th>\n",
       "      <td>1993</td>\n",
       "      <td>78.0</td>\n",
       "      <td>76.1</td>\n",
       "      <td>27.877500</td>\n",
       "      <td>27.378333</td>\n",
       "    </tr>\n",
       "    <tr>\n",
       "      <th>44</th>\n",
       "      <td>1994</td>\n",
       "      <td>562.0</td>\n",
       "      <td>44.9</td>\n",
       "      <td>27.879167</td>\n",
       "      <td>27.537500</td>\n",
       "    </tr>\n",
       "    <tr>\n",
       "      <th>45</th>\n",
       "      <td>1995</td>\n",
       "      <td>2297.0</td>\n",
       "      <td>25.1</td>\n",
       "      <td>27.870833</td>\n",
       "      <td>26.883333</td>\n",
       "    </tr>\n",
       "    <tr>\n",
       "      <th>46</th>\n",
       "      <td>1996</td>\n",
       "      <td>418.0</td>\n",
       "      <td>11.6</td>\n",
       "      <td>27.869167</td>\n",
       "      <td>26.559167</td>\n",
       "    </tr>\n",
       "    <tr>\n",
       "      <th>47</th>\n",
       "      <td>1997</td>\n",
       "      <td>1959.0</td>\n",
       "      <td>28.9</td>\n",
       "      <td>27.861667</td>\n",
       "      <td>28.196667</td>\n",
       "    </tr>\n",
       "    <tr>\n",
       "      <th>48</th>\n",
       "      <td>1998</td>\n",
       "      <td>1067.0</td>\n",
       "      <td>88.3</td>\n",
       "      <td>27.882500</td>\n",
       "      <td>26.959167</td>\n",
       "    </tr>\n",
       "    <tr>\n",
       "      <th>49</th>\n",
       "      <td>1999</td>\n",
       "      <td>3440.0</td>\n",
       "      <td>136.3</td>\n",
       "      <td>27.915833</td>\n",
       "      <td>25.790833</td>\n",
       "    </tr>\n",
       "    <tr>\n",
       "      <th>50</th>\n",
       "      <td>2000</td>\n",
       "      <td>1021.0</td>\n",
       "      <td>173.9</td>\n",
       "      <td>27.915833</td>\n",
       "      <td>26.172500</td>\n",
       "    </tr>\n",
       "  </tbody>\n",
       "</table>\n",
       "</div>"
      ],
      "text/plain": [
       "    Year    Cases    SSN      SST 1      SST 2\n",
       "0   1950  29809.0  118.9  27.511667  25.730000\n",
       "1   1951  20894.0   98.3  27.479167  27.024167\n",
       "2   1952  21154.0   45.0  27.452500  26.744167\n",
       "3   1953  27631.0   20.1  27.430833  27.323333\n",
       "4   1954  15617.0    6.6  27.420000  26.182500\n",
       "5   1955  16642.0   54.2  27.392500  25.635000\n",
       "6   1956  23699.0  200.7  27.351667  26.084167\n",
       "7   1957   8054.0  269.3  27.322500  27.618333\n",
       "8   1958  15631.0  261.7  27.329167  27.483333\n",
       "9   1959  16915.0  225.1  27.360833  26.798333\n",
       "10  1960  15618.0  159.0  27.380000  26.722500\n",
       "11  1961   2663.0   76.4  27.375000  26.593333\n",
       "12  1962   2524.0   53.4  27.415833  26.385833\n",
       "13  1963   3975.0   39.9  27.458333  27.275833\n",
       "14  1964   3333.0   15.0  27.482500  26.246667\n",
       "15  1965   1123.0   22.0  27.477500  27.531667\n",
       "16  1966   3154.0   66.8  27.464167  27.111667\n",
       "17  1967    664.0  132.9  27.483333  26.443333\n",
       "18  1968   3156.0  150.0  27.499167  26.866667\n",
       "19  1969   7411.0  149.4  27.483333  27.496667\n",
       "20  1970   7419.0  148.0  27.514167  26.435833\n",
       "21  1971   2342.0   94.4  27.567500  25.840833\n",
       "22  1972   1059.0   97.6  27.590000  27.750000\n",
       "23  1973   1969.0   54.1  27.654167  26.168333\n",
       "24  1974   5614.0   49.2  27.690000  25.904167\n",
       "25  1975   4888.0   22.5  27.680000  25.760833\n",
       "26  1976    957.0   18.4  27.674167  26.750833\n",
       "27  1977  10403.0   39.3  27.676667  27.333333\n",
       "28  1978   5576.0  131.0  27.705000  26.711667\n",
       "29  1979   2154.0  220.1  27.705000  27.054167\n",
       "30  1980      0.0  218.9  27.730833  27.076667\n",
       "31  1981      0.0  198.9  27.745833  26.622500\n",
       "32  1982      0.0  162.4  27.752500  27.910833\n",
       "33  1983      0.0   91.0  27.777500  27.385833\n",
       "34  1984      0.0   60.5  27.825000  26.414167\n",
       "35  1985      0.0   20.6  27.790833  26.324167\n",
       "36  1986      0.0   14.8  27.758333  27.139167\n",
       "37  1987    523.0   33.9  27.722500  28.172500\n",
       "38  1988    571.0  123.0  27.774167  26.079167\n",
       "39  1989     94.0  211.1  27.829167  26.281667\n",
       "40  1990     82.0  191.8  27.819167  27.207500\n",
       "41  1991      8.0  203.3  27.824167  27.697500\n",
       "42  1992    479.0  133.0  27.858333  27.685000\n",
       "43  1993     78.0   76.1  27.877500  27.378333\n",
       "44  1994    562.0   44.9  27.879167  27.537500\n",
       "45  1995   2297.0   25.1  27.870833  26.883333\n",
       "46  1996    418.0   11.6  27.869167  26.559167\n",
       "47  1997   1959.0   28.9  27.861667  28.196667\n",
       "48  1998   1067.0   88.3  27.882500  26.959167\n",
       "49  1999   3440.0  136.3  27.915833  25.790833\n",
       "50  2000   1021.0  173.9  27.915833  26.172500"
      ]
     },
     "execution_count": 25,
     "metadata": {},
     "output_type": "execute_result"
    }
   ],
   "source": [
    "# So we noticed that there are missing values in our dataset, since we do not know what are the exact values we should put on \n",
    "# those blank cells, let's fill them with 0 value(s).\n",
    "\n",
    "# You can also skip this step if your data does not have any missing values.\n",
    "\n",
    "new_df = df.fillna(0)\n",
    "new_df"
   ]
  },
  {
   "cell_type": "code",
   "execution_count": 5,
   "metadata": {},
   "outputs": [],
   "source": [
    "# Assigning values to your variables\n",
    "\n",
    "time = new_df['Year'].values\n",
    "BANGLADESH = new_df['Cases'].values\n",
    "SSN = new_df['SSN'].values\n",
    "SST1 = new_df['SST 1'].values      # SST 1 = IOBW\n",
    "SST2 = new_df['SST 2'].values      # SST 2 = Niño 3.4"
   ]
  },
  {
   "cell_type": "code",
   "execution_count": 6,
   "metadata": {},
   "outputs": [
    {
     "data": {
      "image/png": "[encoded data removed]",
      "text/plain": [
       "<matplotlib.figure.Figure at 0x6eec2b0>"
      ]
     },
     "metadata": {},
     "output_type": "display_data"
    }
   ],
   "source": [
    "#first let's plot our raw data; divide their maxima so their scale is the same for easy comparison\n",
    "\n",
    "plt.figure(figsize=(14,5))\n",
    "plt.plot(time,BANGLADESH/np.max(BANGLADESH),label='cholera in Bangladesh', color='darkblue')\n",
    "plt.plot(time,SSN/np.max(SSN),label='SSN', color='orange')\n",
    "plt.plot(time,SST1/np.max(SST1),label='IOBW', color='darkgreen')\n",
    "plt.plot(time,SST2/np.max(SST2),label='Niño 3.4', color='red')\n",
    "plt.title('Sunspot numbers, Sea Surface Temperature, and Cholera cases in Bangladesh (1950 - 2000)')\n",
    "plt.legend(['Bangladesh', 'SSN', 'IOBW', 'Niño 3.4'], loc='best', bbox_to_anchor=(1, 0.5))\n",
    "plt.xlabel('Year')\n",
    "plt.grid(color='lightgray')\n",
    "#plt.savefig(\"graph bangladesh.png\")"
   ]
  },
  {
   "cell_type": "code",
   "execution_count": null,
   "metadata": {},
   "outputs": [],
   "source": [
    "# We see that their peaks somewhat align in some years. Their peaks might align if we shift them left or right... periodogram \n",
    "# does that for us.\n",
    "\n",
    "#Now let's make a periodogram using the gatspy package."
   ]
  },
  {
   "cell_type": "code",
   "execution_count": 24,
   "metadata": {},
   "outputs": [
    {
     "data": {
      "text/plain": [
       "(0, 50)"
      ]
     },
     "execution_count": 24,
     "metadata": {},
     "output_type": "execute_result"
    },
    {
     "data": {
      "image/png": "[encoded data removed]",
      "text/plain": [
       "<matplotlib.figure.Figure at 0x957a090>"
      ]
     },
     "metadata": {},
     "output_type": "display_data"
    }
   ],
   "source": [
    "#using periodogram in gatspy, let's see if 11-year sunspot cycle is apparent\n",
    "\n",
    "from gatspy.periodic import LombScargleFast\n",
    "model = LombScargleFast().fit(time, SSN)\n",
    "periods, power = model.periodogram_auto()\n",
    "\n",
    "plt.plot(periods, power, 'o-')\n",
    "plt.title('Periodogram of Sunspot numbers (1950 - 2000)')\n",
    "plt.grid()\n",
    "plt.xlabel('Period (Year)')\n",
    "plt.ylabel('Lomb-Scargle Power')\n",
    "plt.xlim(0,50)\n",
    "#plt.savefig(\"lomb ssn bangladesh.png\")"
   ]
  },
  {
   "cell_type": "code",
   "execution_count": 8,
   "metadata": {},
   "outputs": [
    {
     "name": "stdout",
     "output_type": "stream",
     "text": [
      "Finding optimal frequency:\n",
      " - Estimated peak width = 0.126\n",
      " - Using 5 steps per peak; omega_step = 0.0251\n",
      " - User-specified period range:  9 to 12\n",
      " - Computing periods at 8 steps\n",
      "Zooming-in on 5 candidate peaks:\n",
      " - Computing periods at 995 steps\n",
      "period = 10.718879519794198\n"
     ]
    }
   ],
   "source": [
    "#using the model above, compute the best period which should be between 9 and 12 years as shown above\n",
    "\n",
    "model.optimizer.period_range=(9, 12)\n",
    "period = model.best_period\n",
    "print(\"period = {0}\".format(period))"
   ]
  },
  {
   "cell_type": "code",
   "execution_count": null,
   "metadata": {},
   "outputs": [],
   "source": [
    "# and that's the 11-year sunspot cycle"
   ]
  },
  {
   "cell_type": "code",
   "execution_count": 10,
   "metadata": {},
   "outputs": [
    {
     "data": {
      "text/plain": [
       "Text(0,0.5,'SSN')"
      ]
     },
     "execution_count": 10,
     "metadata": {},
     "output_type": "execute_result"
    },
    {
     "data": {
      "image/png": "[encoded data removed]",
      "text/plain": [
       "<matplotlib.figure.Figure at 0x8604c30>"
      ]
     },
     "metadata": {},
     "output_type": "display_data"
    }
   ],
   "source": [
    "#this is just a trick to slice the time in multiples of the period\n",
    "phase = (time / period) % 1\n",
    "\n",
    "# cut phase 0-1 in 1000 slices\n",
    "phase_fit = np.linspace(0, 1, 1000)\n",
    "# cut compute the model\n",
    "SSN_fit = model.predict(period * phase_fit, period=period)\n",
    "\n",
    "# Plot the phased data & model\n",
    "plt.plot(phase, SSN, '.k', alpha=0.5)\n",
    "plt.plot(phase_fit, SSN_fit, '-k')\n",
    "plt.grid()\n",
    "plt.xlabel('Phase')\n",
    "plt.ylabel('SSN')\n",
    "#plt.savefig(\"insert_filename.png\")"
   ]
  },
  {
   "cell_type": "code",
   "execution_count": null,
   "metadata": {},
   "outputs": [],
   "source": [
    "# Can we get the same periodicity in our cholera data?"
   ]
  },
  {
   "cell_type": "code",
   "execution_count": 20,
   "metadata": {},
   "outputs": [
    {
     "data": {
      "text/plain": [
       "(0, 50)"
      ]
     },
     "execution_count": 20,
     "metadata": {},
     "output_type": "execute_result"
    },
    {
     "data": {
      "image/png": "[encoded data removed]",
      "text/plain": [
       "<matplotlib.figure.Figure at 0x9530690>"
      ]
     },
     "metadata": {},
     "output_type": "display_data"
    }
   ],
   "source": [
    "# Again, same procedure;\n",
    "\n",
    "from gatspy.periodic import LombScargleFast\n",
    "model = LombScargleFast().fit(time, BANGLADESH)\n",
    "periods, power = model.periodogram_auto()\n",
    "\n",
    "plt.plot(periods, power, 'o-')\n",
    "plt.title('Periodogram of cholera cases in Bangladesh (from 1950 - 2000)')\n",
    "plt.grid()\n",
    "plt.xlabel('Period (Year)')\n",
    "plt.ylabel('Lomb-Scargle Power')\n",
    "plt.xlim(0,50)\n",
    "#plt.savefig(\"lomb cholera bangladesh.png\")"
   ]
  },
  {
   "cell_type": "code",
   "execution_count": 12,
   "metadata": {},
   "outputs": [
    {
     "name": "stdout",
     "output_type": "stream",
     "text": [
      "Finding optimal frequency:\n",
      " - Estimated peak width = 0.126\n",
      " - Using 5 steps per peak; omega_step = 0.0251\n",
      " - User-specified period range:  9 to 12\n",
      " - Computing periods at 8 steps\n",
      "Zooming-in on 5 candidate peaks:\n",
      " - Computing periods at 995 steps\n",
      "period = 8.676538639518743\n"
     ]
    }
   ],
   "source": [
    "model.optimizer.period_range=(9, 12)\n",
    "period = model.best_period\n",
    "print(\"period = {0}\".format(period))"
   ]
  },
  {
   "cell_type": "code",
   "execution_count": null,
   "metadata": {},
   "outputs": [],
   "source": [
    "# As we see in the periodogram, the 11 year sunspot cycle does not coincide with the cholera incidence data.\n",
    "\n",
    "# To further check this, let's correlate them using Spearman and Kendall via scipy module"
   ]
  },
  {
   "cell_type": "code",
   "execution_count": 13,
   "metadata": {},
   "outputs": [
    {
     "name": "stdout",
     "output_type": "stream",
     "text": [
      "Spearmans correlation coefficient: 0.016\n",
      "Samples are uncorrelated (fail to reject H0) p=0.912\n"
     ]
    }
   ],
   "source": [
    "# Spearman rho\n",
    "\n",
    "# calculate the spearman's correlation between two variables\n",
    "from scipy.stats import spearmanr\n",
    "# calculate spearman's correlation\n",
    "coef, p = spearmanr(BANGLADESH, SSN)\n",
    "print('Spearmans correlation coefficient: %.3f' % coef)\n",
    "# interpret the significance\n",
    "alpha = 0.05\n",
    "if p > alpha:\n",
    "    print('Samples are uncorrelated (fail to reject H0) p=%.3f' % p)\n",
    "else:\n",
    "    print('Samples are correlated (reject H0) p=%.3f' % p)"
   ]
  },
  {
   "cell_type": "code",
   "execution_count": 14,
   "metadata": {},
   "outputs": [
    {
     "name": "stdout",
     "output_type": "stream",
     "text": [
      "Kendall tau correlation coefficient: 0.008\n",
      "Samples are uncorrelated (fail to reject H0) p=0.935\n"
     ]
    }
   ],
   "source": [
    "# Kendall tau\n",
    "\n",
    "# calculate the kendall tau correlation between two variables\n",
    "from scipy.stats import kendalltau\n",
    "# calculate kendall tau correlation\n",
    "tau, p_value = kendalltau(BANGLADESH, SSN)\n",
    "print('Kendall tau correlation coefficient: %.3f' % tau)\n",
    "# interpret the significance\n",
    "alpha = 0.05\n",
    "if p_value > alpha:\n",
    "    print('Samples are uncorrelated (fail to reject H0) p=%.3f' % p_value)\n",
    "else:\n",
    "    print('Samples are correlated (reject H0) p=%.3f' % p_value)"
   ]
  },
  {
   "cell_type": "code",
   "execution_count": null,
   "metadata": {},
   "outputs": [],
   "source": [
    "# So base on the result of the correlation, it supports the periodogram above."
   ]
  },
  {
   "cell_type": "code",
   "execution_count": null,
   "metadata": {},
   "outputs": [],
   "source": [
    "# Now, let's move to the relationship between SST and cholera incidence, in this case there are no cycles that considered since \n",
    "# that Sea Surface Temperature does not have any cycles, unlike the 11-year sunspot cycle."
   ]
  },
  {
   "cell_type": "code",
   "execution_count": null,
   "metadata": {},
   "outputs": [],
   "source": [
    "# Again, using periodogram we can verify if there is a periodicity between the said variables."
   ]
  },
  {
   "cell_type": "code",
   "execution_count": 16,
   "metadata": {},
   "outputs": [
    {
     "data": {
      "text/plain": [
       "(0, 50)"
      ]
     },
     "execution_count": 16,
     "metadata": {},
     "output_type": "execute_result"
    },
    {
     "data": {
      "image/png": "[encoded data removed]",
      "text/plain": [
       "<matplotlib.figure.Figure at 0x949a3b0>"
      ]
     },
     "metadata": {},
     "output_type": "display_data"
    }
   ],
   "source": [
    "# Periodogram of SST (IOBW)\n",
    "\n",
    "from gatspy.periodic import LombScargleFast\n",
    "model = LombScargleFast().fit(time, SST1)\n",
    "periods, power = model.periodogram_auto()\n",
    "\n",
    "plt.plot(periods, power, 'o-')\n",
    "plt.title('Periodogram of Sea Surface Temperature-IOBW (from 1950 - 2000)')\n",
    "plt.grid()\n",
    "plt.xlabel('Period (Year)')\n",
    "plt.ylabel('Lomb-Scargle Power')\n",
    "plt.xlim(0,50)\n",
    "#plt.savefig(\"lomb iobw bangladesh.png\")"
   ]
  },
  {
   "cell_type": "code",
   "execution_count": 17,
   "metadata": {},
   "outputs": [
    {
     "data": {
      "text/plain": [
       "(0, 50)"
      ]
     },
     "execution_count": 17,
     "metadata": {},
     "output_type": "execute_result"
    },
    {
     "data": {
      "image/png": "[encoded data removed]",
      "text/plain": [
       "<matplotlib.figure.Figure at 0x865c4f0>"
      ]
     },
     "metadata": {},
     "output_type": "display_data"
    }
   ],
   "source": [
    "# Peridogram of cholera incidence in Bangladesh\n",
    "\n",
    "from gatspy.periodic import LombScargleFast\n",
    "model = LombScargleFast().fit(time, BANGLADESH)\n",
    "periods, power = model.periodogram_auto()\n",
    "\n",
    "plt.plot(periods, power, 'o-')\n",
    "plt.title('Periodogram of cholera cases in Bangladesh (from 1950 - 2000)')\n",
    "plt.grid()\n",
    "plt.xlabel('Period (Year)')\n",
    "plt.ylabel('Lomb-Scargle Power')\n",
    "plt.xlim(0,50)\n",
    "#plt.savefig(\"lomb cholera bangladesh.png\")"
   ]
  },
  {
   "cell_type": "code",
   "execution_count": null,
   "metadata": {},
   "outputs": [],
   "source": [
    "# As we see in the periodogram of both SST (IOBW) and cholera incidence we found some frequency peaks that coincides in the same\n",
    "# time frame, thus, we have to further investigate those by adjusting the \"plt.xlim(x,x)\" syntax above depending on the time\n",
    "# period we observed the said periodicity, and check the exact period using the syntax for model optimizer which is shown below,\n",
    "# it is also important to take note that the minimum period range should be above 0, say for example 0.5... etc."
   ]
  },
  {
   "cell_type": "code",
   "execution_count": null,
   "metadata": {},
   "outputs": [],
   "source": [
    "model.optimizer.period_range=(0.75, 1)\n",
    "period = model.best_period\n",
    "print(\"period = {0}\".format(period))"
   ]
  },
  {
   "cell_type": "code",
   "execution_count": null,
   "metadata": {},
   "outputs": [],
   "source": [
    "# Correlation between SST (IOBW) and cholera incidence"
   ]
  },
  {
   "cell_type": "code",
   "execution_count": 18,
   "metadata": {},
   "outputs": [
    {
     "name": "stdout",
     "output_type": "stream",
     "text": [
      "Spearmans correlation coefficient: -0.701\n",
      "Samples are correlated (reject H0) p=0.000\n"
     ]
    }
   ],
   "source": [
    "# Spearman rho\n",
    "\n",
    "# calculate the spearman's correlation between two variables\n",
    "from scipy.stats import spearmanr\n",
    "# calculate spearman's correlation\n",
    "coef, p = spearmanr(BANGLADESH, SST1)\n",
    "print('Spearmans correlation coefficient: %.3f' % coef)\n",
    "# interpret the significance\n",
    "alpha = 0.05\n",
    "if p > alpha:\n",
    "    print('Samples are uncorrelated (fail to reject H0) p=%.3f' % p)\n",
    "else:\n",
    "    print('Samples are correlated (reject H0) p=%.3f' % p)"
   ]
  },
  {
   "cell_type": "code",
   "execution_count": 19,
   "metadata": {},
   "outputs": [
    {
     "name": "stdout",
     "output_type": "stream",
     "text": [
      "Kendall tau correlation coefficient: -0.471\n",
      "Samples are correlated (reject H0) p=0.000\n"
     ]
    }
   ],
   "source": [
    "# Kendall tau\n",
    "\n",
    "# calculate the kendall tau correlation between two variables\n",
    "from scipy.stats import kendalltau\n",
    "# calculate kendall tau correlation\n",
    "tau, p_value = kendalltau(BANGLADESH, SST1)\n",
    "print('Kendall tau correlation coefficient: %.3f' % tau)\n",
    "# interpret the significance\n",
    "alpha = 0.05\n",
    "if p_value > alpha:\n",
    "    print('Samples are uncorrelated (fail to reject H0) p=%.3f' % p_value)\n",
    "else:\n",
    "    print('Samples are correlated (reject H0) p=%.3f' % p_value)"
   ]
  },
  {
   "cell_type": "code",
   "execution_count": null,
   "metadata": {},
   "outputs": [],
   "source": [
    "# Lastly, is about the relationship between SST (Niño 3.4) and cholera incidence"
   ]
  },
  {
   "cell_type": "code",
   "execution_count": 21,
   "metadata": {},
   "outputs": [
    {
     "data": {
      "text/plain": [
       "(0, 50)"
      ]
     },
     "execution_count": 21,
     "metadata": {},
     "output_type": "execute_result"
    },
    {
     "data": {
      "image/png": "[encoded data removed]",
      "text/plain": [
       "<matplotlib.figure.Figure at 0x9524590>"
      ]
     },
     "metadata": {},
     "output_type": "display_data"
    }
   ],
   "source": [
    "# Periodogram of SST (Niño 3.4)\n",
    "\n",
    "from gatspy.periodic import LombScargleFast\n",
    "model = LombScargleFast().fit(time, SST2)\n",
    "periods, power = model.periodogram_auto()\n",
    "\n",
    "plt.plot(periods, power, 'o-')\n",
    "plt.title('Periodogram of Sea Surface Temperature-Niño 3.4 (1950 - 2000)')\n",
    "plt.grid()\n",
    "plt.xlabel('Period (Year)')\n",
    "plt.ylabel('Lomb-Scargle Power')\n",
    "plt.xlim(0,50)\n",
    "#plt.savefig(\"lomb niño 3.4 bangladesh.png\")"
   ]
  },
  {
   "cell_type": "code",
   "execution_count": null,
   "metadata": {},
   "outputs": [],
   "source": [
    "# As we see in the periodogram of both SST (Niño 3.4) and cholera incidence we found some frequency peaks that coincides in the \n",
    "# same time frame, thus, we have to further investigate those by adjusting the \"plt.xlim(x,x)\" syntax above, depending on the \n",
    "# time period we observed the said periodicity, and check the exact period using the syntax for model optimizer which is shown \n",
    "# below, it is also important to take note that the minimum period should be above 0, say for example 0.5... etc."
   ]
  },
  {
   "cell_type": "code",
   "execution_count": null,
   "metadata": {},
   "outputs": [],
   "source": [
    "model.optimizer.period_range=(7, 9)\n",
    "period = model.best_period\n",
    "print(\"period = {0}\".format(period))"
   ]
  },
  {
   "cell_type": "code",
   "execution_count": null,
   "metadata": {},
   "outputs": [],
   "source": [
    "# Correlation between SST (Niño 3.4) and cholera incidence"
   ]
  },
  {
   "cell_type": "code",
   "execution_count": 22,
   "metadata": {},
   "outputs": [
    {
     "name": "stdout",
     "output_type": "stream",
     "text": [
      "Spearmans correlation coefficient: -0.701\n",
      "Samples are correlated (reject H0) p=0.000\n"
     ]
    }
   ],
   "source": [
    "# Spearman rho\n",
    "\n",
    "# calculate the spearman's correlation between two variables\n",
    "from scipy.stats import spearmanr\n",
    "# calculate spearman's correlation\n",
    "coef, p = spearmanr(BANGLADESH, SST1)\n",
    "print('Spearmans correlation coefficient: %.3f' % coef)\n",
    "# interpret the significance\n",
    "alpha = 0.05\n",
    "if p > alpha:\n",
    "    print('Samples are uncorrelated (fail to reject H0) p=%.3f' % p)\n",
    "else:\n",
    "    print('Samples are correlated (reject H0) p=%.3f' % p)"
   ]
  },
  {
   "cell_type": "code",
   "execution_count": 23,
   "metadata": {},
   "outputs": [
    {
     "name": "stdout",
     "output_type": "stream",
     "text": [
      "Kendall tau correlation coefficient: -0.182\n",
      "Samples are uncorrelated (fail to reject H0) p=0.061\n"
     ]
    }
   ],
   "source": [
    "# Kendall tau\n",
    "\n",
    "# calculate the kendall tau correlation between two variables\n",
    "from scipy.stats import kendalltau\n",
    "# calculate kendall tau correlation\n",
    "tau, p_value = kendalltau(BANGLADESH, SST2)\n",
    "print('Kendall tau correlation coefficient: %.3f' % tau)\n",
    "# interpret the significance\n",
    "alpha = 0.05\n",
    "if p_value > alpha:\n",
    "    print('Samples are uncorrelated (fail to reject H0) p=%.3f' % p_value)\n",
    "else:\n",
    "    print('Samples are correlated (reject H0) p=%.3f' % p_value)"
   ]
  },
  {
   "cell_type": "code",
   "execution_count": null,
   "metadata": {},
   "outputs": [],
   "source": []
  }
 ],
 "metadata": {
  "kernelspec": {
   "display_name": "Python 3",
   "language": "python",
   "name": "python3"
  },
  "language_info": {
   "codemirror_mode": {
    "name": "ipython",
    "version": 3
   },
   "file_extension": ".py",
   "mimetype": "text/x-python",
   "name": "python",
   "nbconvert_exporter": "python",
   "pygments_lexer": "ipython3",
   "version": "3.5.4"
  }
 },
 "nbformat": 4,
 "nbformat_minor": 2
}
